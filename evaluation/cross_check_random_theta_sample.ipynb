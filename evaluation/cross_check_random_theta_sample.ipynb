{
 "cells": [
  {
   "cell_type": "code",
   "execution_count": 1,
   "metadata": {},
   "outputs": [],
   "source": [
    "import math\n",
    "import copy\n",
    "import itertools\n",
    "import numpy as np\n",
    "import pandas as pd\n",
    "from sklearn.model_selection import train_test_split\n",
    "import matplotlib.pyplot as plt\n",
    "import random\n",
    "%matplotlib inline\n",
    "from sklearn.neighbors import NearestNeighbors"
   ]
  },
  {
   "cell_type": "code",
   "execution_count": 4,
   "metadata": {},
   "outputs": [
    {
     "name": "stdout",
     "output_type": "stream",
     "text": [
      "(1017, 2)\n"
     ]
    }
   ],
   "source": [
    "thetas = np.load('../data/thetas/thetas_parameterized.npy')\n",
    "print(thetas.shape)\n",
    "\n",
    "n_thetas = len(thetas)\n",
    "theta1 = 708\n",
    "theta_test = 213\n",
    "theta_observed = 0\n",
    "theta_score = 0 # for local model\n",
    "thetas_train = list(range(17,1017))\n",
    "thetas_test = list(range(17))\n",
    "n_randomthetas = 100\n",
    "\n",
    "nbrs = NearestNeighbors(n_neighbors=1, algorithm='ball_tree').fit(thetas)"
   ]
  },
  {
   "cell_type": "markdown",
   "metadata": {},
   "source": [
    "# Load data"
   ]
  },
  {
   "cell_type": "code",
   "execution_count": null,
   "metadata": {},
   "outputs": [],
   "source": [
    "#weighted_data = pd.read_csv('/scratch/jb6504/eft-data/wbf_4l_supernew.dat', sep='\\t', dtype=np.float32)\n",
    "weighted_data = pd.read_csv('../data/events/wbf_4l_supernew.dat', sep='\\t', dtype=np.float32)"
   ]
  },
  {
   "cell_type": "markdown",
   "metadata": {},
   "source": [
    "# Compare random thetas to nearest regular thetas"
   ]
  },
  {
   "cell_type": "code",
   "execution_count": null,
   "metadata": {},
   "outputs": [],
   "source": [
    "p_rt_list = []\n",
    "p_nt_list = []\n",
    "t0_rt_list = []\n",
    "t0_nt_list = []\n",
    "t1_rt_list = []\n",
    "t1_nt_list = []\n",
    "\n",
    "sample = weighted_data.sample(100)\n",
    "\n",
    "for index, row in sample.iterrows():\n",
    "    #print ''\n",
    "    #print 'Event', index\n",
    "    \n",
    "    for rt in range(n_randomthetas):\n",
    "        \n",
    "        rtheta = np.asarray( [row['randomtheta_' + str(rt) + '_0'], row['randomtheta_' + str(rt) + '_1']] )\n",
    "        distances, indices = nbrs.kneighbors([rtheta])\n",
    "        nt = indices[0][0]\n",
    "        dist = distances[0][0]\n",
    "        ntheta = thetas[nt]\n",
    "        \n",
    "        p_rt = row['p_randomtheta_' + str(rt)]\n",
    "        t0_rt = row['score_randomtheta_' + str(rt) + '_0']\n",
    "        t1_rt = row['score_randomtheta_' + str(rt) + '_1']\n",
    "        p_nt = row['p_theta_' + str(nt)]\n",
    "        t0_nt = row['score_theta_' + str(nt) + '_0']\n",
    "        t1_nt = row['score_theta_' + str(nt) + '_1']\n",
    "        \n",
    "        p_rt_list.append(p_rt)\n",
    "        t0_rt_list.append(t0_rt)\n",
    "        t1_rt_list.append(t1_rt)\n",
    "        p_nt_list.append(p_nt)\n",
    "        t0_nt_list.append(t0_nt)\n",
    "        t1_nt_list.append(t1_nt)\n",
    "        \n",
    "        #print rtheta, ntheta, dist, p_rt, p_nt"
   ]
  },
  {
   "cell_type": "code",
   "execution_count": null,
   "metadata": {},
   "outputs": [],
   "source": [
    "plt.figure(figsize=[5.,5.])\n",
    "plt.plot([-25.,-10.], [-25.,-10.],ls=':',c='0.5')\n",
    "plt.scatter(np.log(p_rt_list)[::10],np.log(p_nt_list)[::10],lw=0.,alpha=0.4,s=15.)\n",
    "plt.xlim(-18.,-11.5)\n",
    "plt.ylim(-18.,-11.5)\n",
    "plt.xlabel('log p (random theta)')\n",
    "plt.ylabel('log p (nearest regular theta)')"
   ]
  },
  {
   "cell_type": "code",
   "execution_count": null,
   "metadata": {},
   "outputs": [],
   "source": [
    "plt.figure(figsize=[10.,5.])\n",
    "\n",
    "plt.subplot(1,2,1)\n",
    "plt.plot([-25.,25.], [-25.,25.],ls=':',c='0.5')\n",
    "plt.scatter(np.log(t0_rt_list)[::10],np.log(t0_nt_list)[::10],lw=0.,alpha=0.4,s=15.)\n",
    "plt.xlim(-6.,2.)\n",
    "plt.ylim(-6.,2.)\n",
    "plt.xlabel(r'$t_0$ (random theta)')\n",
    "plt.ylabel(r'$t_0$ (nearest regular theta)')\n",
    "\n",
    "plt.subplot(1,2,2)\n",
    "plt.plot([-25.,25.], [-25.,25.],ls=':',c='0.5')\n",
    "plt.scatter(np.log(t1_rt_list)[::10],np.log(t1_nt_list)[::10],lw=0.,alpha=0.4,s=15.)\n",
    "plt.xlim(-6.,2.)\n",
    "plt.ylim(-6.,2.)\n",
    "plt.xlabel(r'$t_1$ (random theta)')\n",
    "plt.ylabel(r'$t_1$ (nearest regular theta)')"
   ]
  },
  {
   "cell_type": "code",
   "execution_count": null,
   "metadata": {
    "collapsed": true
   },
   "outputs": [],
   "source": []
  }
 ],
 "metadata": {
  "kernelspec": {
   "display_name": "Python [conda env:higgs_inference]",
   "language": "python",
   "name": "conda-env-higgs_inference-py"
  },
  "language_info": {
   "codemirror_mode": {
    "name": "ipython",
    "version": 3
   },
   "file_extension": ".py",
   "mimetype": "text/x-python",
   "name": "python",
   "nbconvert_exporter": "python",
   "pygments_lexer": "ipython3",
   "version": "3.6.4"
  }
 },
 "nbformat": 4,
 "nbformat_minor": 2
}
