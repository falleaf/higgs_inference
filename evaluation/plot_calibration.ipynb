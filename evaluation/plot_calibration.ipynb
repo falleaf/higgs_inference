{
 "cells": [
  {
   "cell_type": "markdown",
   "metadata": {},
   "source": [
    "# Settings"
   ]
  },
  {
   "cell_type": "code",
   "execution_count": 1,
   "metadata": {},
   "outputs": [],
   "source": [
    "# Main switch\n",
    "point_by_point = True\n",
    "algorithm = 'carl' # one of 'carl', 'combined', 'score' (the latter two only for point_by_point == False)\n",
    "filename_settings = '_shallow'"
   ]
  },
  {
   "cell_type": "markdown",
   "metadata": {},
   "source": [
    "# Preparations"
   ]
  },
  {
   "cell_type": "code",
   "execution_count": null,
   "metadata": {},
   "outputs": [],
   "source": [
    "import math\n",
    "import copy\n",
    "import itertools\n",
    "import numpy as np\n",
    "import scipy.stats\n",
    "import scipy.interpolate\n",
    "from scipy.optimize import curve_fit\n",
    "\n",
    "%matplotlib inline\n",
    "import matplotlib.colors\n",
    "import matplotlib.pyplot as plt\n",
    "import matplotlib.cm as cm\n",
    "plt.rcParams[\"figure.figsize\"] = (5, 5)\n",
    "from matplotlib.mlab import griddata\n",
    "\n",
    "from sklearn.preprocessing import StandardScaler\n",
    "from sklearn.gaussian_process import GaussianProcessRegressor\n",
    "from sklearn.gaussian_process.kernels import ConstantKernel as C, Matern"
   ]
  },
  {
   "cell_type": "markdown",
   "metadata": {},
   "source": [
    "# Load results from cluster runs"
   ]
  },
  {
   "cell_type": "code",
   "execution_count": null,
   "metadata": {},
   "outputs": [],
   "source": [
    "if point_by_point:\n",
    "    data_dir = '../results/point_by_point'\n",
    "    figure_dir = '../figures/point_by_point'\n",
    "elif:\n",
    "    data_dir = '../results/parameterized'\n",
    "    figure_dir = '../figures/parameterized'\n",
    "    \n",
    "cal0_hist = np.load(data_dir + '/cal0histo_nottrained_' + algorithm + filename_settings + '.npy')\n",
    "cal1_hist = np.load(data_dir + '/cal1histo_nottrained_' + algorithm + filename_settings + '.npy')\n",
    "cal0_edges = np.load(data_dir + '/cal0edges_nottrained_' + algorithm + filename_settings + '.npy')\n",
    "cal1_edges = np.load(data_dir + '/cal1edges_nottrained_' + algorithm + filename_settings + '.npy')"
   ]
  },
  {
   "cell_type": "markdown",
   "metadata": {},
   "source": [
    "# Plot calibration histogram"
   ]
  },
  {
   "cell_type": "code",
   "execution_count": null,
   "metadata": {},
   "outputs": [],
   "source": [
    "plt.figure(figsize=(5,5))\n",
    "\n",
    "cal0_hist_ = np.hstack([cal0histo, [0.]])\n",
    "cal1_hist_ = np.hstack([cal1histo, [0.]])\n",
    "\n",
    "plt.step(cal0_edges, cal0_hist_,\n",
    "         where='post',\n",
    "         alpha=0.2, lw=0., fillstyle='full',\n",
    "         color='C0')\n",
    "plt.step(cal1_edges, cal1_hist_,\n",
    "         where='post',\n",
    "         alpha=0.2, lw=0., fillstyle='full',\n",
    "         color='C1')\n",
    "plt.step(cal0_edges, cal0_hist_,\n",
    "         where='post',\n",
    "         alpha=1., fillstyle='none',\n",
    "         color='C0', label='numerator')\n",
    "plt.step(cal1_edges, cal1_hist_,\n",
    "         where='post',\n",
    "         alpha=1., fillstyle='none',\n",
    "         color='C1', label='denominator')\n",
    "\n",
    "plt.xlabel(r'$s$')\n",
    "plt.legend()\n",
    "\n",
    "plt.savefig(figure_dir + '/calibration_histogram' + main_mode + \".pdf\")"
   ]
  }
 ],
 "metadata": {
  "kernelspec": {
   "display_name": "Python [conda env:higgs_inference]",
   "language": "python",
   "name": "conda-env-higgs_inference-py"
  },
  "language_info": {
   "codemirror_mode": {
    "name": "ipython",
    "version": 3
   },
   "file_extension": ".py",
   "mimetype": "text/x-python",
   "name": "python",
   "nbconvert_exporter": "python",
   "pygments_lexer": "ipython3",
   "version": "3.6.4"
  }
 },
 "nbformat": 4,
 "nbformat_minor": 2
}
