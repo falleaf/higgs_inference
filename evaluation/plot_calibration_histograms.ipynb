{
 "cells": [
  {
   "cell_type": "markdown",
   "metadata": {},
   "source": [
    "# Settings"
   ]
  },
  {
   "cell_type": "code",
   "execution_count": 27,
   "metadata": {
    "collapsed": true
   },
   "outputs": [],
   "source": [
    "# Main switch\n",
    "point_by_point = False\n",
    "algorithm = 'score' # one of 'carl', 'combined', 'score' (the latter two only for point_by_point == False)\n",
    "filename_settings = ''"
   ]
  },
  {
   "cell_type": "markdown",
   "metadata": {},
   "source": [
    "# Preparations"
   ]
  },
  {
   "cell_type": "code",
   "execution_count": 28,
   "metadata": {
    "collapsed": true
   },
   "outputs": [],
   "source": [
    "import math\n",
    "import copy\n",
    "import itertools\n",
    "import numpy as np\n",
    "import scipy.stats\n",
    "import scipy.interpolate\n",
    "from scipy.optimize import curve_fit\n",
    "\n",
    "%matplotlib inline\n",
    "import matplotlib.colors\n",
    "import matplotlib.pyplot as plt\n",
    "import matplotlib.cm as cm\n",
    "plt.rcParams[\"figure.figsize\"] = (5, 5)\n",
    "from matplotlib.mlab import griddata\n",
    "\n",
    "from sklearn.preprocessing import StandardScaler\n",
    "from sklearn.gaussian_process import GaussianProcessRegressor\n",
    "from sklearn.gaussian_process.kernels import ConstantKernel as C, Matern"
   ]
  },
  {
   "cell_type": "markdown",
   "metadata": {},
   "source": [
    "# Load results from cluster runs"
   ]
  },
  {
   "cell_type": "code",
   "execution_count": 29,
   "metadata": {},
   "outputs": [],
   "source": [
    "if point_by_point:\n",
    "    data_dir = '../results/point_by_point'\n",
    "else:\n",
    "    data_dir = '../results/parameterized'\n",
    "figure_dir = '../figures/calibration'\n",
    "    \n",
    "cal0_histo = np.load(data_dir + '/cal0histo_nottrained_' + algorithm + filename_settings + '.npy')\n",
    "cal1_histo = np.load(data_dir + '/cal1histo_nottrained_' + algorithm + filename_settings + '.npy')\n",
    "cal0_edges = np.load(data_dir + '/cal0edges_nottrained_' + algorithm + filename_settings + '.npy')\n",
    "cal1_edges = np.load(data_dir + '/cal1edges_nottrained_' + algorithm + filename_settings + '.npy')\n",
    "\n",
    "r_raw = np.load(data_dir + '/r_nottrained_' + algorithm + filename_settings + '.npy')\n",
    "r_calibrated = np.load(data_dir + '/r_nottrained_' + algorithm + '_calibrated' + filename_settings + '.npy')"
   ]
  },
  {
   "cell_type": "markdown",
   "metadata": {},
   "source": [
    "# Plot calibration histogram"
   ]
  },
  {
   "cell_type": "code",
   "execution_count": 30,
   "metadata": {},
   "outputs": [
    {
     "name": "stderr",
     "output_type": "stream",
     "text": [
      "/Users/johannbrehmer/anaconda3/lib/python3.6/site-packages/ipykernel_launcher.py:22: RuntimeWarning: invalid value encountered in true_divide\n"
     ]
    },
    {
     "data": {
      "image/png": "[encoded data removed]",
      "text/plain": [
       "<matplotlib.figure.Figure at 0x1a138f23c8>"
      ]
     },
     "metadata": {},
     "output_type": "display_data"
    }
   ],
   "source": [
    "cal0_hist_ = np.hstack([cal0_histo, [0.]])\n",
    "cal1_hist_ = np.hstack([cal1_histo, [0.]])\n",
    "\n",
    "plt.figure(figsize=(8,4))\n",
    "\n",
    "plt.subplot(1,2,1)\n",
    "plt.step(cal0_edges, cal0_hist_,\n",
    "         where='post',\n",
    "         alpha=1., fillstyle='none',\n",
    "         color='C0', label='numerator')\n",
    "plt.step(cal1_edges, cal1_hist_,\n",
    "         where='post',\n",
    "         alpha=1., fillstyle='none',\n",
    "         color='C1', label='denominator')\n",
    "plt.xlabel(r'Raw $\\hat{s}$')\n",
    "plt.ylabel(r'Calibration $p(\\hat{s})$')\n",
    "plt.xlim(0.2,1.)\n",
    "plt.ylim(0.,None)\n",
    "plt.legend()\n",
    "\n",
    "plt.subplot(1,2,2)\n",
    "plt.step(cal0_edges, cal0_hist_ / cal1_hist_,\n",
    "         where='post', fillstyle='none',\n",
    "         color='C0', label='numerator')\n",
    "plt.xlabel(r'Raw $\\hat{s}$')\n",
    "plt.ylabel(r'Calibrated $\\hat{r}(\\hat{s})$')\n",
    "plt.xlim(0.2,1.)\n",
    "plt.ylim(0.,None)\n",
    "\n",
    "plt.tight_layout()\n",
    "plt.savefig(figure_dir + '/calibration_histogram' + algorithm + \".pdf\")"
   ]
  },
  {
   "cell_type": "code",
   "execution_count": null,
   "metadata": {
    "collapsed": true
   },
   "outputs": [],
   "source": []
  }
 ],
 "metadata": {
  "kernelspec": {
   "display_name": "Python 3",
   "language": "python",
   "name": "python3"
  },
  "language_info": {
   "codemirror_mode": {
    "name": "ipython",
    "version": 3
   },
   "file_extension": ".py",
   "mimetype": "text/x-python",
   "name": "python",
   "nbconvert_exporter": "python",
   "pygments_lexer": "ipython3",
   "version": "3.6.3"
  }
 },
 "nbformat": 4,
 "nbformat_minor": 2
}
