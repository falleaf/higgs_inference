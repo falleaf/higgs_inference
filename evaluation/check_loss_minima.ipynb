{
 "cells": [
  {
   "cell_type": "code",
   "execution_count": 1,
   "metadata": {},
   "outputs": [],
   "source": [
    "import sys\n",
    "import collections\n",
    "import numpy as np\n",
    "from scipy.stats import norm\n",
    "\n",
    "%matplotlib notebook\n",
    "import matplotlib\n",
    "import matplotlib.colors\n",
    "import matplotlib.pyplot as plt\n",
    "from mpl_toolkits.mplot3d import Axes3D, proj3d\n",
    "from mpl_toolkits.mplot3d.art3d import Line3DCollection\n",
    "from matplotlib.collections import LineCollection\n",
    "\n",
    "sys.path.append('..')\n",
    "from higgs_inference.various.utils import interpolate, format_number, asymptotic_p_value, s_from_r\n",
    "from higgs_inference import settings\n"
   ]
  },
  {
   "cell_type": "code",
   "execution_count": 2,
   "metadata": {},
   "outputs": [],
   "source": [
    "colors     = ['#CC002E',  'c',    'mediumblue', 'darkgreen', 'orange']\n",
    "linestyles = [  '--',   '-.',    ':',      '-.',          '--',        '-',         '--',  ':']\n",
    "linewidths = [  1.5,     1.5,    2.,       1.5,            1.5,         1.5,          1.5,  2]\n",
    "\n",
    "def lighter_color(color, fraction_white=0.5):\n",
    "    rgb = np.asarray(matplotlib.colors.to_rgb(color))\n",
    "    white = np.asarray((1.,1.,1.))\n",
    "    return fraction_white * white + (1. - fraction_white)*rgb\n",
    "\n",
    "def ccolor(theta):\n",
    "    cmap = matplotlib.cm.get_cmap('viridis')\n",
    "    return cmap((theta + 1) / 2.)\n",
    "\n"
   ]
  },
  {
   "cell_type": "markdown",
   "metadata": {},
   "source": [
    "# Toy model"
   ]
  },
  {
   "cell_type": "code",
   "execution_count": null,
   "metadata": {},
   "outputs": [],
   "source": []
  }
 ],
 "metadata": {
  "kernelspec": {
   "display_name": "Python [conda env:higgs_inference]",
   "language": "python",
   "name": "conda-env-higgs_inference-py"
  },
  "language_info": {
   "codemirror_mode": {
    "name": "ipython",
    "version": 3
   },
   "file_extension": ".py",
   "mimetype": "text/x-python",
   "name": "python",
   "nbconvert_exporter": "python",
   "pygments_lexer": "ipython3",
   "version": "3.6.4"
  }
 },
 "nbformat": 4,
 "nbformat_minor": 2
}
