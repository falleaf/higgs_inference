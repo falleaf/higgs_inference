{
 "cells": [
  {
   "cell_type": "code",
   "execution_count": 39,
   "metadata": {},
   "outputs": [
    {
     "name": "stdout",
     "output_type": "stream",
     "text": [
      "The autoreload extension is already loaded. To reload it, use:\n",
      "  %reload_ext autoreload\n"
     ]
    }
   ],
   "source": [
    "%load_ext autoreload\n",
    "%autoreload 2\n",
    "\n",
    "import pandas as pd\n",
    "import sys\n",
    "import math\n",
    "import numpy as np\n",
    "import collections\n",
    "\n",
    "%matplotlib inline\n",
    "%config InlineBackend.figure_format = 'retina'\n",
    "import matplotlib.pyplot as plt\n",
    "\n",
    "sys.path.append('../')\n",
    "from higgs_inference import settings\n",
    "from higgs_inference.various.utils import s_from_r, find_binning\n"
   ]
  },
  {
   "cell_type": "code",
   "execution_count": null,
   "metadata": {},
   "outputs": [],
   "source": [
    "y = np.load('../data/unweighted_events/y_illustration.npy')\n",
    "t = np.load('../data/unweighted_events/scores_illustration.npy')\n",
    "r = np.load('../data/unweighted_events/r_illustration.npy')\n",
    "\n",
    "t_hat = np.load('../results/score_regression/that_illustration_scoreregression_short.npy')\n",
    "r_hat_fixed = np.load('../results/score_regression/r_illustration_scoreregression_score_short.npy')\n",
    "r_hat_dynamic = np.load('../results/score_regression/r_illustration_scoreregression_rotatedscore_short.npy')\n"
   ]
  },
  {
   "cell_type": "code",
   "execution_count": null,
   "metadata": {},
   "outputs": [],
   "source": [
    "plt.figure(figsize=(10.,4.))\n",
    "\n",
    "skip = 1\n",
    "rmin, rmax = -2.,0.5\n",
    "\n",
    "\n",
    "\n",
    "ax = plt.subplot(1,2,1)\n",
    "\n",
    "plt.scatter(t_hat[::skip,0], t_hat[::skip,1], c=np.log(r_hat_fixed)[::skip], cmap='viridis', vmin=rmin, vmax=rmax, s=5.)\n",
    "cbar = plt.colorbar()\n",
    "\n",
    "plt.xlabel(r'$\\hat{t}_0 (x | \\theta_{SM})$ (local score regression)')\n",
    "plt.ylabel(r'$\\hat{t}_1 (x | \\theta_{SM})$ (local score regression)')\n",
    "cbar.set_label(r'$\\hat{r}(x | \\theta_{SM})$ (fixed)')\n",
    "plt.xlim(-1.,7.)\n",
    "plt.ylim(-3.5,3.5)\n",
    "\n",
    "\n",
    "\n",
    "ax = plt.subplot(1,2,2)\n",
    "\n",
    "plt.scatter(t_hat[::skip,0], t_hat[::skip,1], c=np.log(r_hat_dynamic)[::skip], cmap='viridis', vmin=rmin, vmax=rmax, s=5.)\n",
    "cbar = plt.colorbar()\n",
    "\n",
    "plt.xlabel(r'$\\hat{t}_0 (x | \\theta_{SM})$ (local score regression)')\n",
    "plt.ylabel(r'$\\hat{t}_1 (x | \\theta_{SM})$ (local score regression)')\n",
    "cbar.set_label(r'$\\hat{r}(x | \\theta_{SM})$ (dynamic)')\n",
    "plt.xlim(-1.,7.)\n",
    "plt.ylim(-3.5,3.5)\n",
    "\n",
    "\n",
    "plt.tight_layout()\n",
    "plt.show()\n",
    "\n"
   ]
  },
  {
   "cell_type": "code",
   "execution_count": null,
   "metadata": {},
   "outputs": [],
   "source": [
    "edges = find_binning(t[:,0], [9,10,9], min_bin_size=0.1)"
   ]
  },
  {
   "cell_type": "code",
   "execution_count": null,
   "metadata": {},
   "outputs": [],
   "source": [
    "for i, (e1, e2) in enumerate(zip(edges[:-1], edges[1:])):\n",
    "    print(i, round(e1,2), round(e2,2), round(e2-e1,2))"
   ]
  },
  {
   "cell_type": "code",
   "execution_count": null,
   "metadata": {},
   "outputs": [],
   "source": []
  }
 ],
 "metadata": {
  "kernelspec": {
   "display_name": "Python [conda env:higgs_inference]",
   "language": "python",
   "name": "conda-env-higgs_inference-py"
  },
  "language_info": {
   "codemirror_mode": {
    "name": "ipython",
    "version": 3
   },
   "file_extension": ".py",
   "mimetype": "text/x-python",
   "name": "python",
   "nbconvert_exporter": "python",
   "pygments_lexer": "ipython3",
   "version": "3.6.4"
  }
 },
 "nbformat": 4,
 "nbformat_minor": 2
}
