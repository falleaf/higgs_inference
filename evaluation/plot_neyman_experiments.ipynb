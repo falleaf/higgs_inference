{
 "cells": [
  {
   "cell_type": "code",
   "execution_count": 1,
   "metadata": {},
   "outputs": [],
   "source": [
    "import sys\n",
    "\n",
    "import numpy as np\n",
    "from matplotlib import pyplot as plt\n",
    "\n",
    "from scipy.stats import chi2\n",
    "\n",
    "sys.path.append('..')\n",
    "from higgs_inference import settings\n",
    "from higgs_inference.various.utils import format_number"
   ]
  },
  {
   "cell_type": "code",
   "execution_count": 2,
   "metadata": {},
   "outputs": [],
   "source": [
    "thetas = settings.thetas"
   ]
  },
  {
   "cell_type": "markdown",
   "metadata": {},
   "source": [
    "# Plot function"
   ]
  },
  {
   "cell_type": "code",
   "execution_count": 3,
   "metadata": {},
   "outputs": [],
   "source": [
    "def plot_neyman_distributions(output_filename, filename, folder='parameterized', n_bins=51):\n",
    "    \n",
    "    thetas_plot = [0,9]\n",
    "    thetas_labels = ['SM', 'NT']\n",
    "    \n",
    "    distributions = np.load('../results/' + folder\n",
    "                           +'/neyman_llr_vs_mle_distributions_'\n",
    "                           + filename + '.npy')\n",
    "    observeds = np.load('../results/' + folder\n",
    "                           +'/neyman_llr_vs_mle_observeds_'\n",
    "                           + filename + '.npy')\n",
    "    p_values = np.load('../results/' + folder\n",
    "                      + '/p_values_' + filename + '.npy')\n",
    "    \n",
    "    #print(distributions)\n",
    "    #print(observeds)\n",
    "    #print(p_values)\n",
    "    \n",
    "    plt.figure(figsize=(8,4))\n",
    "    \n",
    "    for i, (t, label) in enumerate(zip(thetas_plot, thetas_labels)):\n",
    "        \n",
    "        xmin = min(np.percentile(distributions[t], 1.), np.percentile(observeds[t], 5.))\n",
    "        xmax = max(np.percentile(distributions[t], 99.), np.percentile(observeds[t], 95.))\n",
    "        xmin = xmin - (xmax - xmin) * 0.2\n",
    "        xmax = xmax + (xmax - xmin) * 0.2\n",
    "        \n",
    "        xvals = np.linspace(xmin, xmax, 200)\n",
    "        \n",
    "        plt.subplot(1, 2, i+1)\n",
    "        plt.hist(distributions[t],\n",
    "                 bins=n_bins, range=(xmin, xmax), density=True,\n",
    "                 color='C0', alpha=0.2)\n",
    "        plt.hist(observeds[t],\n",
    "                 bins=n_bins, range=(xmin, xmax), density=True,\n",
    "                 color='C1', alpha=0.2)\n",
    "        plt.hist(distributions[t],\n",
    "                 bins=n_bins, range=(xmin, xmax), density=True,\n",
    "                 color='C0', histtype='step')\n",
    "        plt.hist(observeds[t],\n",
    "                 bins=n_bins, range=(xmin, xmax), density=True,\n",
    "                 color='C1', histtype='step')\n",
    "        \n",
    "        plt.plot([], [], '-', c='C0', label=r'$p(q(\\theta_{' + label + r'}) | \\theta_{' + label + r'})$ (\"hypothesis\")')\n",
    "        plt.plot([], [], '-', c='C1', label=r'$p(q(\\theta_{' + label + r'}) | \\theta_{SM})$ (\"observed\")')\n",
    "        plt.plot(xvals, chi2.pdf(xvals, 2), ls='--', c='C2', label=r'$\\chi^2$ distribution')\n",
    "        plt.plot([], [], ' ', label=r'$p = ' + format_number(p_values[t]) + '$')\n",
    "        plt.legend()\n",
    "        \n",
    "        plt.xlabel(r'$q(\\theta_{' + label + r'})$')\n",
    "        plt.ylabel(r'$p(q(\\theta_{' + label + r'}))$')\n",
    "        plt.xlim(xmin, xmax)\n",
    "        plt.ylim(0., None)\n",
    "\n",
    "    plt.tight_layout()\n",
    "    plt.savefig('../figures/neyman/neyman_distribution_' + output_filename + '.pdf')"
   ]
  },
  {
   "cell_type": "markdown",
   "metadata": {},
   "source": [
    "# Go"
   ]
  },
  {
   "cell_type": "code",
   "execution_count": 5,
   "metadata": {},
   "outputs": [
    {
     "ename": "FileNotFoundError",
     "evalue": "[Errno 2] No such file or directory: '../results/parameterized/neyman_llr_vs_mle_distributions_regression.npy'",
     "output_type": "error",
     "traceback": [
      "\u001b[0;31m---------------------------------------------------------------------------\u001b[0m",
      "\u001b[0;31mFileNotFoundError\u001b[0m                         Traceback (most recent call last)",
      "\u001b[0;32m<ipython-input-5-1aab929481d5>\u001b[0m in \u001b[0;36m<module>\u001b[0;34m()\u001b[0m\n\u001b[1;32m      9\u001b[0m \u001b[0;31m#plot_neyman_distributions('combined', 'combined', 'parameterized')\u001b[0m\u001b[0;34m\u001b[0m\u001b[0;34m\u001b[0m\u001b[0m\n\u001b[1;32m     10\u001b[0m \u001b[0;31m#plot_neyman_distributions('combined_calibrated', 'combined_calibrated', 'parameterized')\u001b[0m\u001b[0;34m\u001b[0m\u001b[0;34m\u001b[0m\u001b[0m\n\u001b[0;32m---> 11\u001b[0;31m \u001b[0mplot_neyman_distributions\u001b[0m\u001b[0;34m(\u001b[0m\u001b[0;34m'regression'\u001b[0m\u001b[0;34m,\u001b[0m \u001b[0;34m'regression'\u001b[0m\u001b[0;34m,\u001b[0m \u001b[0;34m'parameterized'\u001b[0m\u001b[0;34m)\u001b[0m\u001b[0;34m\u001b[0m\u001b[0m\n\u001b[0m\u001b[1;32m     12\u001b[0m \u001b[0mplot_neyman_distributions\u001b[0m\u001b[0;34m(\u001b[0m\u001b[0;34m'combinedregression'\u001b[0m\u001b[0;34m,\u001b[0m \u001b[0;34m'combinedregression'\u001b[0m\u001b[0;34m,\u001b[0m \u001b[0;34m'parameterized'\u001b[0m\u001b[0;34m)\u001b[0m\u001b[0;34m\u001b[0m\u001b[0m\n\u001b[1;32m     13\u001b[0m \u001b[0;34m\u001b[0m\u001b[0m\n",
      "\u001b[0;32m<ipython-input-3-cb1bd78d3315>\u001b[0m in \u001b[0;36mplot_neyman_distributions\u001b[0;34m(output_filename, filename, folder, n_bins)\u001b[0m\n\u001b[1;32m      6\u001b[0m     distributions = np.load('../results/' + folder\n\u001b[1;32m      7\u001b[0m                            \u001b[0;34m+\u001b[0m\u001b[0;34m'/neyman_llr_vs_mle_distributions_'\u001b[0m\u001b[0;34m\u001b[0m\u001b[0m\n\u001b[0;32m----> 8\u001b[0;31m                            + filename + '.npy')\n\u001b[0m\u001b[1;32m      9\u001b[0m     observeds = np.load('../results/' + folder\n\u001b[1;32m     10\u001b[0m                            \u001b[0;34m+\u001b[0m\u001b[0;34m'/neyman_llr_vs_mle_observeds_'\u001b[0m\u001b[0;34m\u001b[0m\u001b[0m\n",
      "\u001b[0;32m~/anaconda3/envs/higgs_inference/lib/python3.6/site-packages/numpy/lib/npyio.py\u001b[0m in \u001b[0;36mload\u001b[0;34m(file, mmap_mode, allow_pickle, fix_imports, encoding)\u001b[0m\n\u001b[1;32m    370\u001b[0m     \u001b[0mown_fid\u001b[0m \u001b[0;34m=\u001b[0m \u001b[0;32mFalse\u001b[0m\u001b[0;34m\u001b[0m\u001b[0m\n\u001b[1;32m    371\u001b[0m     \u001b[0;32mif\u001b[0m \u001b[0misinstance\u001b[0m\u001b[0;34m(\u001b[0m\u001b[0mfile\u001b[0m\u001b[0;34m,\u001b[0m \u001b[0mbasestring\u001b[0m\u001b[0;34m)\u001b[0m\u001b[0;34m:\u001b[0m\u001b[0;34m\u001b[0m\u001b[0m\n\u001b[0;32m--> 372\u001b[0;31m         \u001b[0mfid\u001b[0m \u001b[0;34m=\u001b[0m \u001b[0mopen\u001b[0m\u001b[0;34m(\u001b[0m\u001b[0mfile\u001b[0m\u001b[0;34m,\u001b[0m \u001b[0;34m\"rb\"\u001b[0m\u001b[0;34m)\u001b[0m\u001b[0;34m\u001b[0m\u001b[0m\n\u001b[0m\u001b[1;32m    373\u001b[0m         \u001b[0mown_fid\u001b[0m \u001b[0;34m=\u001b[0m \u001b[0;32mTrue\u001b[0m\u001b[0;34m\u001b[0m\u001b[0m\n\u001b[1;32m    374\u001b[0m     \u001b[0;32melif\u001b[0m \u001b[0mis_pathlib_path\u001b[0m\u001b[0;34m(\u001b[0m\u001b[0mfile\u001b[0m\u001b[0;34m)\u001b[0m\u001b[0;34m:\u001b[0m\u001b[0;34m\u001b[0m\u001b[0m\n",
      "\u001b[0;31mFileNotFoundError\u001b[0m: [Errno 2] No such file or directory: '../results/parameterized/neyman_llr_vs_mle_distributions_regression.npy'"
     ]
    }
   ],
   "source": [
    "plot_neyman_distributions('truth', 'truth', 'truth')\n",
    "plot_neyman_distributions('localmodel', 'localmodel', 'truth')\n",
    "\n",
    "plot_neyman_distributions('scoreregression', 'scoreregression', 'score_regression')\n",
    "plot_neyman_distributions('scoreregression_calibrated', 'scoreregression_calibrated', 'score_regression')\n",
    "\n",
    "#plot_neyman_distributions('carl_pbp', 'carl', 'point_by_point')\n",
    "#plot_neyman_distributions('carl_calibrated_pbp', 'carl_calibrated', 'point_by_point')\n",
    "#plot_neyman_distributions('regression_pbp', 'regression', 'point_by_point')\n",
    "\n",
    "#plot_neyman_distributions('carl', 'carl', 'parameterized')\n",
    "#plot_neyman_distributions('carl_calibrated', 'carl_calibrated', 'parameterized')\n",
    "#plot_neyman_distributions('score', 'score', 'parameterized')\n",
    "#plot_neyman_distributions('score_calibrated', 'score_calibrated', 'parameterized')\n",
    "#plot_neyman_distributions('combined', 'combined', 'parameterized')\n",
    "#plot_neyman_distributions('combined_calibrated', 'combined_calibrated', 'parameterized')\n",
    "plot_neyman_distributions('regression', 'regression', 'parameterized')\n",
    "plot_neyman_distributions('combinedregression', 'combinedregression', 'parameterized')\n"
   ]
  },
  {
   "cell_type": "code",
   "execution_count": null,
   "metadata": {},
   "outputs": [],
   "source": []
  }
 ],
 "metadata": {
  "kernelspec": {
   "display_name": "Python [conda env:higgs_inference]",
   "language": "python",
   "name": "conda-env-higgs_inference-py"
  },
  "language_info": {
   "codemirror_mode": {
    "name": "ipython",
    "version": 3
   },
   "file_extension": ".py",
   "mimetype": "text/x-python",
   "name": "python",
   "nbconvert_exporter": "python",
   "pygments_lexer": "ipython3",
   "version": "3.6.4"
  }
 },
 "nbformat": 4,
 "nbformat_minor": 2
}
