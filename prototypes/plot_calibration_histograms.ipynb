{
 "cells": [
  {
   "cell_type": "code",
   "execution_count": 11,
   "metadata": {},
   "outputs": [],
   "source": [
    "import numpy as np\n",
    "import matplotlib.pyplot as plt\n",
    "%matplotlib inline\n",
    "\n",
    "from sklearn.preprocessing import StandardScaler\n",
    "from sklearn.gaussian_process import GaussianProcessRegressor\n",
    "from sklearn.gaussian_process.kernels import ConstantKernel as C, Matern\n",
    "\n",
    "from keras.wrappers.scikit_learn import KerasRegressor\n",
    "from keras.models import Model\n",
    "from keras.layers import Input, Dense, Dropout\n",
    "from keras import losses, optimizers\n",
    "\n",
    "from carl.ratios import ClassifierScoreRatio\n",
    "from carl.learning import CalibratedClassifierScoreCV"
   ]
  },
  {
   "cell_type": "code",
   "execution_count": 2,
   "metadata": {},
   "outputs": [],
   "source": [
    "data_dir = '../data'\n",
    "t = 0\n",
    "theta1 = 708"
   ]
  },
  {
   "cell_type": "code",
   "execution_count": 3,
   "metadata": {},
   "outputs": [],
   "source": [
    "def loss_function_carl(y_true, y_pred):\n",
    "    return losses.binary_crossentropy(y_true[:, 0], y_pred[:, 0])\n",
    "\n",
    "def make_classifier(n_hidden_layers=3,\n",
    "                    hidden_layer_size=100,\n",
    "                    activation='tanh',\n",
    "                    dropout_prob=0.0):\n",
    "    # Inputs\n",
    "    input_layer = Input(shape=(42,))\n",
    "\n",
    "    # Network\n",
    "    hidden_layer = Dense(hidden_layer_size, activation=activation)(input_layer)\n",
    "    if n_hidden_layers > 1:\n",
    "        hidden_layer_ = hidden_layers(n_hidden_layers - 1,\n",
    "                                      hidden_layer_size=hidden_layer_size,\n",
    "                                      activation=activation,\n",
    "                                      dropout_prob=dropout_prob)\n",
    "        hidden_layer = hidden_layer_(hidden_layer)\n",
    "    s_hat_layer = Dense(1, activation='sigmoid')(hidden_layer)\n",
    "\n",
    "    # Combine outputs\n",
    "    model = Model(inputs=[input_layer], outputs=[s_hat_layer])\n",
    "\n",
    "    # Compile model\n",
    "    model.compile(loss=loss_function_carl,\n",
    "                  optimizer=optimizers.Adam(clipnorm=1.))\n",
    "\n",
    "    return model"
   ]
  },
  {
   "cell_type": "code",
   "execution_count": 4,
   "metadata": {},
   "outputs": [
    {
     "name": "stdout",
     "output_type": "stream",
     "text": [
      "Train on 8571 samples, validate on 1429 samples\n",
      "Epoch 1/1\n",
      " - 1s - loss: 0.2537 - val_loss: 0.0402\n"
     ]
    },
    {
     "data": {
      "text/plain": [
       "ClassifierScoreRatio(base_estimator=CalibratedClassifierScoreCV(base_estimator=<keras.wrappers.scikit_learn.KerasRegressor object at 0x107485dd8>,\n",
       "              bins=50, cv='prefit', independent_binning=False,\n",
       "              interpolation=None, method='histogram', variable_width=False),\n",
       "           prefit=None, random_state=None)"
      ]
     },
     "execution_count": 4,
     "metadata": {},
     "output_type": "execute_result"
    }
   ],
   "source": [
    "# Load data\n",
    "X_train = np.load(data_dir + '/unweighted_events/X_train_point_by_point_' + str(t) + '_debug.npy')\n",
    "y_train = np.load(data_dir + '/unweighted_events/y_train_point_by_point_' + str(t) + '_debug.npy')\n",
    "X_calibration = np.load(data_dir + '/unweighted_events/X_calibration_debug.npy')\n",
    "weights_calibration = np.load(\n",
    "    data_dir + '/unweighted_events/weights_calibration_debug.npy')\n",
    "    \n",
    "# Scale data\n",
    "scaler = StandardScaler()\n",
    "scaler.fit(np.array(X_train, dtype=np.float64))\n",
    "X_train_transformed = scaler.transform(X_train)\n",
    "X_calibration_transformed = scaler.transform(X_calibration)\n",
    "\n",
    "clf = KerasRegressor(lambda: make_classifier(n_hidden_layers=1),\n",
    "                     epochs=1, validation_split=0.142857,\n",
    "                     verbose=2)\n",
    "\n",
    "# Training\n",
    "clf.fit(X_train_transformed, y_train)\n",
    "\n",
    "# Calibration\n",
    "nc = X_calibration_transformed.shape[0]\n",
    "X_calibration_both = np.zeros((2 * nc, X_calibration_transformed.shape[1]))\n",
    "X_calibration_both[:nc] = X_calibration_transformed\n",
    "X_calibration_both[nc:] = X_calibration_transformed\n",
    "y_calibration = np.zeros(2 * nc)\n",
    "y_calibration[nc:] = 1.\n",
    "w_calibration = np.zeros(2 * nc)\n",
    "w_calibration[:nc] = weights_calibration[t]\n",
    "w_calibration[nc:] = weights_calibration[theta1]\n",
    "\n",
    "ratio_calibrated = ClassifierScoreRatio(\n",
    "    CalibratedClassifierScoreCV(clf, cv='prefit', bins=50, independent_binning=False)\n",
    ")\n",
    "ratio_calibrated.fit(X_calibration_both, y_calibration, sample_weight=w_calibration)"
   ]
  },
  {
   "cell_type": "code",
   "execution_count": 5,
   "metadata": {},
   "outputs": [],
   "source": [
    "cal0 = ratio_calibrated.classifier_.calibrators_[0].calibrator0\n",
    "cal1 = ratio_calibrated.classifier_.calibrators_[0].calibrator1"
   ]
  },
  {
   "cell_type": "code",
   "execution_count": 9,
   "metadata": {},
   "outputs": [
    {
     "name": "stdout",
     "output_type": "stream",
     "text": [
      "[ 0.          0.          0.51826538  1.22350663  1.58347027 11.12710427\n",
      " 31.23760218 28.7856447  26.56997261 26.34788663 25.9508812  20.90833289\n",
      " 17.38765434  8.69452294  9.29624324  6.19156923  5.13798298  2.40775984\n",
      "  2.49342172  1.4472565   2.08356245  0.48939073  0.95938929  0.53766095\n",
      "  0.72373918  0.39650762  0.          0.32838861  0.          0.\n",
      "  0.          0.          0.          0.          0.          0.\n",
      "  0.          0.          0.          0.          0.          0.\n",
      "  0.          0.          0.          0.          0.          0.\n",
      "  0.          0.          0.          0.        ]\n"
     ]
    }
   ],
   "source": [
    "print(cal1.histogram_)"
   ]
  },
  {
   "cell_type": "code",
   "execution_count": 16,
   "metadata": {},
   "outputs": [
    {
     "data": {
      "image/png": "[encoded data removed]",
      "text/plain": [
       "<matplotlib.figure.Figure at 0x1c1e055a90>"
      ]
     },
     "metadata": {},
     "output_type": "display_data"
    }
   ],
   "source": [
    "plt.figure(figsize=(5,5))\n",
    "\n",
    "reals = np.linspace(0.,1.)\n",
    "\n",
    "plt.plot(reals, cal0.pdf(reals.reshape(-1, 1)), label=\"num\")\n",
    "plt.plot(reals, cal1.pdf(reals.reshape(-1, 1)), label=\"den\")\n",
    "\n",
    "plt.legend()\n",
    "\n",
    "plt.ylabel('p(s)')\n",
    "plt.xlabel('s')\n",
    "\n",
    "plt.show()"
   ]
  },
  {
   "cell_type": "code",
   "execution_count": 17,
   "metadata": {},
   "outputs": [
    {
     "data": {
      "image/png": "[encoded data removed]",
      "text/plain": [
       "<matplotlib.figure.Figure at 0x1c1e193b00>"
      ]
     },
     "metadata": {},
     "output_type": "display_data"
    }
   ],
   "source": [
    "plt.figure(figsize=(5,5))\n",
    "\n",
    "num_hist = np.hstack([cal0.histogram_, [0.]])\n",
    "num_edges = cal0.edges_[0]\n",
    "den_hist = np.hstack([cal1.histogram_, [0.]])\n",
    "den_edges = cal1.edges_[0]\n",
    "\n",
    "plt.step(num_edges, num_hist,\n",
    "         where='post',\n",
    "         alpha=0.2, lw=0., fillstyle='full',\n",
    "         color='C0')\n",
    "plt.step(den_edges, den_hist,\n",
    "         where='post',\n",
    "         alpha=0.2, lw=0., fillstyle='full',\n",
    "         color='C1')\n",
    "plt.step(num_edges, num_hist,\n",
    "         where='post',\n",
    "         alpha=1., lw=1., fillstyle='none',\n",
    "         color='C0', label='numerator')\n",
    "plt.step(den_edges, den_hist,\n",
    "         where='post',\n",
    "         alpha=1., lw=1., fillstyle='none',\n",
    "         color='C1', label='denominator')\n",
    "\n",
    "plt.xlabel('s')\n",
    "plt.legend()\n",
    "\n",
    "plt.show()"
   ]
  },
  {
   "cell_type": "code",
   "execution_count": null,
   "metadata": {},
   "outputs": [],
   "source": []
  }
 ],
 "metadata": {
  "kernelspec": {
   "display_name": "Python [conda env:higgs_inference]",
   "language": "python",
   "name": "conda-env-higgs_inference-py"
  },
  "language_info": {
   "codemirror_mode": {
    "name": "ipython",
    "version": 3
   },
   "file_extension": ".py",
   "mimetype": "text/x-python",
   "name": "python",
   "nbconvert_exporter": "python",
   "pygments_lexer": "ipython3",
   "version": "3.6.4"
  }
 },
 "nbformat": 4,
 "nbformat_minor": 2
}
