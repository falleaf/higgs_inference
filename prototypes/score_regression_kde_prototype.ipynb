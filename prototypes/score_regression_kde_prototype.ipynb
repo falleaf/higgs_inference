{
 "cells": [
  {
   "cell_type": "code",
   "execution_count": 2,
   "metadata": {},
   "outputs": [
    {
     "name": "stdout",
     "output_type": "stream",
     "text": [
      "The autoreload extension is already loaded. To reload it, use:\n",
      "  %reload_ext autoreload\n"
     ]
    }
   ],
   "source": [
    "%load_ext autoreload\n",
    "%autoreload 2\n",
    "\n",
    "import numpy as np\n",
    "import matplotlib.pyplot as plt\n",
    "%matplotlib inline\n",
    "\n",
    "from sklearn.preprocessing import StandardScaler\n",
    "\n",
    "from keras.wrappers.scikit_learn import KerasRegressor\n",
    "from keras.models import Model\n",
    "from keras.layers import Input, Dense, Dropout\n",
    "from keras import losses, optimizers\n",
    "\n",
    "from awkde import GaussianKDE"
   ]
  },
  {
   "cell_type": "code",
   "execution_count": 3,
   "metadata": {},
   "outputs": [],
   "source": [
    "# Data\n",
    "data_dir = '../data'\n",
    "\n",
    "X_train = np.load(data_dir + '/unweighted_events/X_train_scoreregression.npy')\n",
    "scores_train = np.load(data_dir + '/unweighted_events/scores_train_scoreregression.npy')\n",
    "\n",
    "X_calibration = np.load(data_dir + '/unweighted_events/X_calibration.npy')\n",
    "weights_calibration = np.load(\n",
    "    data_dir + '/unweighted_events/weights_calibration.npy')\n",
    "    \n",
    "# Scale data\n",
    "scaler = StandardScaler()\n",
    "scaler.fit(np.array(X_train, dtype=np.float64))\n",
    "X_train_transformed = scaler.transform(X_train)\n",
    "X_calibration_transformed = scaler.transform(X_calibration)"
   ]
  },
  {
   "cell_type": "code",
   "execution_count": 4,
   "metadata": {},
   "outputs": [],
   "source": [
    "theta1 = 708\n",
    "theta = 0"
   ]
  },
  {
   "cell_type": "markdown",
   "metadata": {},
   "source": [
    "# Score regression"
   ]
  },
  {
   "cell_type": "code",
   "execution_count": 5,
   "metadata": {},
   "outputs": [],
   "source": [
    "def make_regressor(n_hidden_layers=3,\n",
    "                    hidden_layer_size=100,\n",
    "                    activation='tanh',\n",
    "                    dropout_prob=0.0):\n",
    "    # Inputs\n",
    "    input_layer = Input(shape=(42,))\n",
    "\n",
    "    # Network\n",
    "    hidden_layer = Dense(hidden_layer_size, activation=activation)(input_layer)\n",
    "    if n_hidden_layers > 1:\n",
    "        hidden_layer_ = hidden_layers(n_hidden_layers - 1,\n",
    "                                      hidden_layer_size=hidden_layer_size,\n",
    "                                      activation=activation,\n",
    "                                      dropout_prob=dropout_prob)\n",
    "        hidden_layer = hidden_layer_(hidden_layer)\n",
    "    score_layer = Dense(2, activation='linear')(hidden_layer)\n",
    "\n",
    "    # Combine outputs\n",
    "    model = Model(inputs=[input_layer], outputs=[score_layer])\n",
    "\n",
    "    # Compile model\n",
    "    model.compile(loss='mean_squared_error',\n",
    "                  optimizer=optimizers.Adam(clipnorm=1.))\n",
    "\n",
    "    return model"
   ]
  },
  {
   "cell_type": "code",
   "execution_count": 6,
   "metadata": {},
   "outputs": [
    {
     "name": "stdout",
     "output_type": "stream",
     "text": [
      "Train on 857123 samples, validate on 142854 samples\n",
      "Epoch 1/1\n",
      " - 23s - loss: 0.1079 - val_loss: 0.0637\n"
     ]
    },
    {
     "data": {
      "text/plain": [
       "<keras.callbacks.History at 0x1a1c9a5ac8>"
      ]
     },
     "execution_count": 6,
     "metadata": {},
     "output_type": "execute_result"
    }
   ],
   "source": [
    "# Train score regression\n",
    "regr = KerasRegressor(lambda: make_regressor(n_hidden_layers=1),\n",
    "                      epochs=1, validation_split=0.142857,\n",
    "                      verbose=2)\n",
    "\n",
    "regr.fit(X_train_transformed[::10], scores_train[::10])"
   ]
  },
  {
   "cell_type": "code",
   "execution_count": 7,
   "metadata": {},
   "outputs": [],
   "source": [
    "that_calibration = regr.predict(X_calibration_transformed)"
   ]
  },
  {
   "cell_type": "markdown",
   "metadata": {},
   "source": [
    "# Calibration"
   ]
  },
  {
   "cell_type": "code",
   "execution_count": 8,
   "metadata": {},
   "outputs": [
    {
     "name": "stdout",
     "output_type": "stream",
     "text": [
      "(19994, 2)\n",
      "(19994,)\n"
     ]
    },
    {
     "data": {
      "text/plain": [
       "(array([0.48151085, 0.30060332]), array([[ 5.12649046, -0.11479686],\n",
       "        [-0.11479686,  3.18356221]]))"
      ]
     },
     "execution_count": 8,
     "metadata": {},
     "output_type": "execute_result"
    }
   ],
   "source": [
    "pdf_nom = GaussianKDE()\n",
    "print(that_calibration[::].shape)\n",
    "print(weights_calibration[theta,::].shape)\n",
    "pdf_nom.fit(that_calibration[::], weights=weights_calibration[theta,::])\n",
    "\n",
    "pdf_den = GaussianKDE()\n",
    "pdf_den.fit(that_calibration[::], weights=weights_calibration[theta1,::])"
   ]
  },
  {
   "cell_type": "markdown",
   "metadata": {},
   "source": [
    "# Plot pdfs and ratio"
   ]
  },
  {
   "cell_type": "code",
   "execution_count": null,
   "metadata": {},
   "outputs": [],
   "source": [
    "xi = np.linspace(-2.0, 2.0, 100)\n",
    "yi = np.linspace(-2.0, 2.0, 100)\n",
    "xx, yy = np.meshgrid(xi, yi)\n",
    "scores_eval = np.asarray((xx.flatten(), yy.flatten())).T"
   ]
  },
  {
   "cell_type": "code",
   "execution_count": null,
   "metadata": {},
   "outputs": [],
   "source": [
    "p_nom_eval = pdf_nom.predict(scores_eval)\n",
    "p_den_eval = pdf_den.predict(scores_eval)\n",
    "ratio_eval = p_nom_eval / p_den_eval"
   ]
  },
  {
   "cell_type": "code",
   "execution_count": null,
   "metadata": {},
   "outputs": [],
   "source": [
    "plt.figure(figsize=(15.,4.))\n",
    "\n",
    "\n",
    "\n",
    "plt.subplot(1,3,1)\n",
    "cs = plt.contourf(xi, yi, (p_nom_eval).reshape((100, 100)), 100, cmap=\"viridis\")\n",
    "cbar = plt.colorbar()\n",
    "plt.xlabel('$t_0$')\n",
    "plt.ylabel('$t_1$')\n",
    "cbar.set_label(r'$\\log p(t|\\theta_0)$')\n",
    "\n",
    "\n",
    "\n",
    "plt.subplot(1,3,2)\n",
    "cs = plt.contourf(xi, yi, (p_den_eval).reshape((100, 100)), 100, cmap=\"viridis\")\n",
    "cbar = plt.colorbar()\n",
    "plt.xlabel('$t_0$')\n",
    "plt.ylabel('$t_1$')\n",
    "cbar.set_label(r'$\\log p(t|\\theta_1)$')\n",
    "\n",
    "\n",
    "\n",
    "plt.subplot(1,3,3)\n",
    "cs = plt.contourf(xi, yi, (ratio_eval).reshape((100, 100)), 100, cmap=\"viridis\")\n",
    "cbar = plt.colorbar()\n",
    "plt.xlabel('$t_0$')\n",
    "plt.ylabel('$t_1$')\n",
    "cbar.set_label(r'$\\log r(t; \\theta_0, \\theta_1)$')\n",
    "\n",
    "\n",
    "plt.tight_layout()\n",
    "plt.show()"
   ]
  },
  {
   "cell_type": "code",
   "execution_count": null,
   "metadata": {},
   "outputs": [],
   "source": []
  }
 ],
 "metadata": {
  "kernelspec": {
   "display_name": "Python [conda env:higgs_inference]",
   "language": "python",
   "name": "conda-env-higgs_inference-py"
  },
  "language_info": {
   "codemirror_mode": {
    "name": "ipython",
    "version": 3
   },
   "file_extension": ".py",
   "mimetype": "text/x-python",
   "name": "python",
   "nbconvert_exporter": "python",
   "pygments_lexer": "ipython3",
   "version": "3.6.4"
  }
 },
 "nbformat": 4,
 "nbformat_minor": 2
}
