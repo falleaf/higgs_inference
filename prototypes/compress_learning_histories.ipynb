{
 "cells": [
  {
   "cell_type": "code",
   "execution_count": 1,
   "metadata": {},
   "outputs": [],
   "source": [
    "import glob, os\n",
    "from os import path\n",
    "import numpy as np"
   ]
  },
  {
   "cell_type": "code",
   "execution_count": 2,
   "metadata": {},
   "outputs": [],
   "source": [
    "directory = '/Users/johannbrehmer/work/projects/higgs_inference/higgs_inference/results/'\n",
    "subdirs = ['parameterized', 'point_by_point']\n",
    "filenames = '*detailedtraininghistory*.npy'\n",
    "\n",
    "replace_what = 'detailedtraininghistory'\n",
    "replace_with = 'traininghistory_100batches'"
   ]
  },
  {
   "cell_type": "code",
   "execution_count": 3,
   "metadata": {},
   "outputs": [],
   "source": [
    "def boil_down(array, n=100):\n",
    "    new_array = []\n",
    "\n",
    "    lower = - n\n",
    "    upper = 0\n",
    "\n",
    "    while upper < len(array):\n",
    "        lower += n\n",
    "        upper += n\n",
    "        new_array.append(np.mean(array[lower:upper]))\n",
    "        \n",
    "    return np.asarray(new_array)"
   ]
  },
  {
   "cell_type": "code",
   "execution_count": 4,
   "metadata": {
    "scrolled": true
   },
   "outputs": [
    {
     "name": "stdout",
     "output_type": "stream",
     "text": [
      "detailedtraininghistory_mse_logr_combined_alpha_0.30.npy (3123450,) (31235,) traininghistory_100batches_mse_logr_combined_alpha_0.30.npy\n",
      "detailedtraininghistory_trimmed_mse_logr_carl_smeared.npy (2561229,) (25613,) traininghistory_100batches_trimmed_mse_logr_carl_smeared.npy\n",
      "detailedtraininghistory_loss_carl_slowlearning.npy (3123450,) (31235,) traininghistory_100batches_loss_carl_slowlearning.npy\n",
      "detailedtraininghistory_ce_carl_smeared.npy (2561229,) (25613,) traininghistory_100batches_ce_carl_smeared.npy\n",
      "detailedtraininghistory_mae_scores_combined_alpha_0.30.npy (3123450,) (31235,) traininghistory_100batches_mae_scores_combined_alpha_0.30.npy\n",
      "detailedtraininghistory_trimmed_mse_logr_combined_alpha_0.30.npy (3123450,) (31235,) traininghistory_100batches_trimmed_mse_logr_combined_alpha_0.30.npy\n",
      "detailedtraininghistory_ce_combined_alpha_0.30.npy (3123450,) (31235,) traininghistory_100batches_ce_combined_alpha_0.30.npy\n",
      "detailedtraininghistory_mse_logr_carl_smeared.npy (2561229,) (25613,) traininghistory_100batches_mse_logr_carl_smeared.npy\n",
      "detailedtraininghistory_trimmed_mse_scores_combined_alpha_0.30.npy (3123450,) (31235,) traininghistory_100batches_trimmed_mse_scores_combined_alpha_0.30.npy\n",
      "detailedtraininghistory_mse_scores_carl_smeared.npy (2561229,) (25613,) traininghistory_100batches_mse_scores_carl_smeared.npy\n",
      "detailedtraininghistory_mae_logr_combined_alpha_0.30.npy (3123450,) (31235,) traininghistory_100batches_mae_logr_combined_alpha_0.30.npy\n",
      "detailedtraininghistory_ce_carl_slowlearning.npy (3123450,) (31235,) traininghistory_100batches_ce_carl_slowlearning.npy\n",
      "detailedtraininghistory_trimmed_mse_logr_carl_slowlearning.npy (3123450,) (31235,) traininghistory_100batches_trimmed_mse_logr_carl_slowlearning.npy\n",
      "detailedtraininghistory_loss_carl_smeared.npy (2561229,) (25613,) traininghistory_100batches_loss_carl_smeared.npy\n",
      "detailedtraininghistory_mae_scores_carl_slowlearning.npy (3123450,) (31235,) traininghistory_100batches_mae_scores_carl_slowlearning.npy\n",
      "detailedtraininghistory_mae_logr_carl_smeared.npy (2561229,) (25613,) traininghistory_100batches_mae_logr_carl_smeared.npy\n",
      "detailedtraininghistory_mae_scores_carl_smeared.npy (2561229,) (25613,) traininghistory_100batches_mae_scores_carl_smeared.npy\n",
      "detailedtraininghistory_trimmed_ce_combined_alpha_0.30.npy (3123450,) (31235,) traininghistory_100batches_trimmed_ce_combined_alpha_0.30.npy\n",
      "detailedtraininghistory_trimmed_mse_scores_carl_smeared.npy (2561229,) (25613,) traininghistory_100batches_trimmed_mse_scores_carl_smeared.npy\n",
      "detailedtraininghistory_loss_combined_alpha_0.30.npy (3123450,) (31235,) traininghistory_100batches_loss_combined_alpha_0.30.npy\n",
      "detailedtraininghistory_mse_scores_combined_alpha_0.30.npy (3123450,) (31235,) traininghistory_100batches_mse_scores_combined_alpha_0.30.npy\n",
      "detailedtraininghistory_trimmed_mse_scores_carl_slowlearning.npy (3123450,) (31235,) traininghistory_100batches_trimmed_mse_scores_carl_slowlearning.npy\n",
      "detailedtraininghistory_mse_logr_carl_slowlearning.npy (3123450,) (31235,) traininghistory_100batches_mse_logr_carl_slowlearning.npy\n",
      "detailedtraininghistory_trimmed_ce_carl_slowlearning.npy (3123450,) (31235,) traininghistory_100batches_trimmed_ce_carl_slowlearning.npy\n",
      "detailedtraininghistory_mae_logr_carl_slowlearning.npy (3123450,) (31235,) traininghistory_100batches_mae_logr_carl_slowlearning.npy\n",
      "detailedtraininghistory_trimmed_ce_carl_smeared.npy (2561229,) (25613,) traininghistory_100batches_trimmed_ce_carl_smeared.npy\n",
      "detailedtraininghistory_mse_scores_carl_slowlearning.npy (3123450,) (31235,) traininghistory_100batches_mse_scores_carl_slowlearning.npy\n"
     ]
    }
   ],
   "source": [
    "for subdir in subdirs:\n",
    "    os.chdir(directory + subdir)\n",
    "\n",
    "    for file in glob.glob(filenames):\n",
    "        new_file = file.replace(replace_what, replace_with)\n",
    "        \n",
    "        assert new_file != file\n",
    "        \n",
    "        content = np.load(file)\n",
    "        new_content = boil_down(content)\n",
    "        np.save(new_file, new_content)\n",
    "        \n",
    "        print(file, content.shape, new_content.shape, new_file)"
   ]
  },
  {
   "cell_type": "code",
   "execution_count": null,
   "metadata": {},
   "outputs": [],
   "source": []
  }
 ],
 "metadata": {
  "kernelspec": {
   "display_name": "Python [conda env:higgs_inference]",
   "language": "python",
   "name": "conda-env-higgs_inference-py"
  },
  "language_info": {
   "codemirror_mode": {
    "name": "ipython",
    "version": 3
   },
   "file_extension": ".py",
   "mimetype": "text/x-python",
   "name": "python",
   "nbconvert_exporter": "python",
   "pygments_lexer": "ipython3",
   "version": "3.6.4"
  }
 },
 "nbformat": 4,
 "nbformat_minor": 2
}
