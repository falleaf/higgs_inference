{
 "cells": [
  {
   "cell_type": "code",
   "execution_count": 1,
   "metadata": {},
   "outputs": [
    {
     "name": "stderr",
     "output_type": "stream",
     "text": [
      "/Users/johannbrehmer/anaconda3/envs/higgs_inference/lib/python3.6/site-packages/h5py/__init__.py:36: FutureWarning: Conversion of the second argument of issubdtype from `float` to `np.floating` is deprecated. In future, it will be treated as `np.float64 == np.dtype(float).type`.\n",
      "  from ._conv import register_converters as _register_converters\n",
      "Using TensorFlow backend.\n",
      "/Users/johannbrehmer/anaconda3/envs/higgs_inference/lib/python3.6/importlib/_bootstrap.py:219: RuntimeWarning: compiletime version 3.5 of module 'tensorflow.python.framework.fast_tensor_util' does not match runtime version 3.6\n",
      "  return f(*args, **kwds)\n"
     ]
    }
   ],
   "source": [
    "%load_ext autoreload\n",
    "%autoreload 2\n",
    "\n",
    "import numpy as np\n",
    "import matplotlib.pyplot as plt\n",
    "%matplotlib inline\n",
    "\n",
    "from sklearn.preprocessing import StandardScaler\n",
    "\n",
    "from keras.wrappers.scikit_learn import KerasRegressor\n",
    "from keras.models import Model\n",
    "from keras.layers import Input, Dense, Dropout, Lambda, Concatenate, Multiply, Reshape, ActivityRegularization\n",
    "from keras import losses, optimizers\n",
    "from keras.callbacks import EarlyStopping\n",
    "import keras.backend as K"
   ]
  },
  {
   "cell_type": "code",
   "execution_count": 2,
   "metadata": {},
   "outputs": [],
   "source": [
    "from awkde import GaussianKDE"
   ]
  },
  {
   "cell_type": "code",
   "execution_count": 51,
   "metadata": {},
   "outputs": [],
   "source": [
    "# Data\n",
    "data_dir = '../data'\n",
    "\n",
    "X_train = np.load(data_dir + '/unweighted_events/X_train_point_by_point_9.npy')\n",
    "y_train = np.load(data_dir + '/unweighted_events/y_train_point_by_point_9.npy')\n",
    "r_train = np.load(data_dir + '/unweighted_events/r_train_point_by_point_9.npy')\n",
    "\n",
    "X_calibration = np.load(data_dir + '/unweighted_events/X_calibration.npy')\n",
    "weights_calibration = np.load(\n",
    "    data_dir + '/unweighted_events/weights_calibration.npy')\n",
    "    \n",
    "# Scale data\n",
    "scaler = StandardScaler()\n",
    "scaler.fit(np.array(X_train, dtype=np.float64))\n",
    "X_train_transformed = scaler.transform(X_train)\n",
    "X_calibration_transformed = scaler.transform(X_calibration)\n",
    "\n",
    "log_r_gradients_train = np.zeros((r_train.shape[0], 43))\n",
    "log_r_gradients_train[:,0] = np.log(r_train)"
   ]
  },
  {
   "cell_type": "code",
   "execution_count": 4,
   "metadata": {},
   "outputs": [],
   "source": [
    "theta1 = 708\n",
    "theta = 9"
   ]
  },
  {
   "cell_type": "markdown",
   "metadata": {},
   "source": [
    "# Covariance matrix in X space"
   ]
  },
  {
   "cell_type": "code",
   "execution_count": null,
   "metadata": {},
   "outputs": [],
   "source": [
    "X_indices = [0,1,2,3,39,40,41] # j1 momentum + delta eta, delta phi, mjj\n",
    "cov_X = np.cov(X_train_transformed[::10,X_indices])\n",
    "print(cov_X)"
   ]
  },
  {
   "cell_type": "markdown",
   "metadata": {},
   "source": [
    "# Regressor"
   ]
  },
  {
   "cell_type": "code",
   "execution_count": 62,
   "metadata": {},
   "outputs": [],
   "source": [
    "n_features = 42\n",
    "\n",
    "def stack_layer(layers):\n",
    "    def f(x):\n",
    "        for k in range(len(layers)):\n",
    "            x = layers[k](x)\n",
    "        return x\n",
    "\n",
    "    return f\n",
    "\n",
    "def hidden_layers(n,\n",
    "                  hidden_layer_size=100,\n",
    "                  activation='tanh',\n",
    "                  dropout_prob=0.0):\n",
    "    r = []\n",
    "    for k in range(n):\n",
    "        if dropout_prob > 0.:\n",
    "            s = stack_layer([\n",
    "                Dropout(dropout_prob),\n",
    "                Dense(hidden_layer_size, activation=activation)\n",
    "            ])\n",
    "        else:\n",
    "            s = stack_layer([Dense(hidden_layer_size, activation=activation)])\n",
    "        r.append(s)\n",
    "    return stack_layer(r)\n",
    "\n",
    "def loss_function_regression(y_true, y_pred):\n",
    "    return losses.mean_squared_error(y_true[:,0], y_pred[:,0])\n",
    "\n",
    "def make_regressor(n_hidden_layers=3,\n",
    "                   hidden_layer_size=100,\n",
    "                   activation='tanh',\n",
    "                   dropout_prob=0.0):\n",
    "\n",
    "    # Inputs\n",
    "    input_layer = Input(shape=(n_features,))\n",
    "\n",
    "    # Network\n",
    "    hidden_layer = Dense(hidden_layer_size, activation=activation)(input_layer)\n",
    "    if n_hidden_layers > 1:\n",
    "        hidden_layer_ = hidden_layers(n_hidden_layers - 1,\n",
    "                                      hidden_layer_size=hidden_layer_size,\n",
    "                                      activation=activation,\n",
    "                                      dropout_prob=dropout_prob)\n",
    "        hidden_layer = hidden_layer_(hidden_layer)\n",
    "    log_r_hat_layer = Dense(1, activation='linear')(hidden_layer)\n",
    "    s_hat_layer = Lambda(lambda x : 1. / 1. + x)(log_r_hat_layer)\n",
    "\n",
    "    # gradients with respect to x\n",
    "    gradient_layer = Lambda(lambda x: K.gradients(x[0], x[1])[0],\n",
    "                            output_shape=(n_features,))([s_hat_layer, input_layer])\n",
    "\n",
    "    # Combine outputs\n",
    "    output_layer = Concatenate()([log_r_hat_layer, gradient_layer])\n",
    "    model = Model(inputs=[input_layer], outputs=[output_layer])\n",
    "\n",
    "    # Compile model\n",
    "    model.compile(loss=loss_function_regression,\n",
    "                  optimizer=optimizers.Adam(clipnorm=1.))\n",
    "\n",
    "    return model"
   ]
  },
  {
   "cell_type": "code",
   "execution_count": 63,
   "metadata": {},
   "outputs": [
    {
     "name": "stdout",
     "output_type": "stream",
     "text": [
      "Train on 80000 samples, validate on 20000 samples\n",
      "Epoch 1/20\n",
      " - 4s - loss: 0.1519 - val_loss: 0.1775\n",
      "Epoch 2/20\n",
      " - 3s - loss: 0.0654 - val_loss: 0.1209\n",
      "Epoch 3/20\n",
      " - 3s - loss: 0.0469 - val_loss: 0.0971\n",
      "Epoch 4/20\n",
      " - 3s - loss: 0.0357 - val_loss: 0.0759\n",
      "Epoch 5/20\n",
      " - 3s - loss: 0.0289 - val_loss: 0.0700\n",
      "Epoch 6/20\n",
      " - 3s - loss: 0.0246 - val_loss: 0.0638\n",
      "Epoch 7/20\n",
      " - 3s - loss: 0.0219 - val_loss: 0.0623\n",
      "Epoch 8/20\n",
      " - 4s - loss: 0.0200 - val_loss: 0.0485\n",
      "Epoch 9/20\n",
      " - 4s - loss: 0.0182 - val_loss: 0.0490\n",
      "Epoch 10/20\n",
      " - 3s - loss: 0.0166 - val_loss: 0.0601\n",
      "Epoch 11/20\n",
      " - 3s - loss: 0.0158 - val_loss: 0.0421\n",
      "Epoch 12/20\n",
      " - 3s - loss: 0.0148 - val_loss: 0.0489\n",
      "Epoch 13/20\n",
      " - 3s - loss: 0.0143 - val_loss: 0.0400\n",
      "Epoch 14/20\n",
      " - 3s - loss: 0.0136 - val_loss: 0.0427\n",
      "Epoch 15/20\n",
      " - 4s - loss: 0.0126 - val_loss: 0.0447\n",
      "Epoch 16/20\n",
      " - 3s - loss: 0.0124 - val_loss: 0.0364\n",
      "Epoch 17/20\n",
      " - 4s - loss: 0.0125 - val_loss: 0.0340\n",
      "Epoch 18/20\n",
      " - 4s - loss: 0.0110 - val_loss: 0.0480\n",
      "Epoch 19/20\n",
      " - 5s - loss: 0.0112 - val_loss: 0.0371\n",
      "Epoch 20/20\n",
      " - 4s - loss: 0.0112 - val_loss: 0.0409\n",
      "Epoch 00020: early stopping\n"
     ]
    },
    {
     "data": {
      "text/plain": [
       "<keras.callbacks.History at 0x1a1ee63fd0>"
      ]
     },
     "execution_count": 63,
     "metadata": {},
     "output_type": "execute_result"
    }
   ],
   "source": [
    "# Train score regression\n",
    "regr = KerasRegressor(lambda: make_regressor(n_hidden_layers=2),\n",
    "                     epochs=20, verbose=2, validation_split=0.2,\n",
    "                     callbacks=[EarlyStopping(verbose=1, patience=3)])\n",
    "\n",
    "regr.fit(X_train_transformed, log_r_gradients_train)"
   ]
  },
  {
   "cell_type": "code",
   "execution_count": 67,
   "metadata": {},
   "outputs": [],
   "source": [
    "calibration_predictions = regr.predict(X_calibration_transformed)\n",
    "log_r_hat_calibration = calibration_predictions[:,0]\n",
    "s_hat_calibration = 1. / (1. + np.exp(log_r_hat_calibration))\n",
    "gradients_calibration = calibration_predictions[:,1:]"
   ]
  },
  {
   "cell_type": "code",
   "execution_count": null,
   "metadata": {},
   "outputs": [],
   "source": [
    "grad_cov_grad = np.dot(gradients_calibration[:,X_indices], np.dot(cov_X, gradients_calibration[:,X_indices])"
   ]
  },
  {
   "cell_type": "code",
   "execution_count": null,
   "metadata": {},
   "outputs": [],
   "source": [
    "print(grad_cov_grad)"
   ]
  },
  {
   "cell_type": "markdown",
   "metadata": {},
   "source": [
    "# Calibration"
   ]
  },
  {
   "cell_type": "code",
   "execution_count": 69,
   "metadata": {},
   "outputs": [
    {
     "data": {
      "text/plain": [
       "(array([0.53772868]), array([[0.02642862]]))"
      ]
     },
     "execution_count": 69,
     "metadata": {},
     "output_type": "execute_result"
    }
   ],
   "source": [
    "pdf_nom = GaussianKDE(alpha=0.5)\n",
    "pdf_nom.fit(s_hat_calibration.reshape((-1,1)), weights=weights_calibration[theta,::])\n",
    "\n",
    "pdf_den = GaussianKDE(alpha=0.5)\n",
    "pdf_den.fit(s_hat_calibration.reshape((-1,1)), weights=weights_calibration[theta1,::])"
   ]
  },
  {
   "cell_type": "code",
   "execution_count": 71,
   "metadata": {},
   "outputs": [
    {
     "data": {
      "text/plain": [
       "(array([0.53772868]), array([[0.02642862]]))"
      ]
     },
     "execution_count": 71,
     "metadata": {},
     "output_type": "execute_result"
    }
   ],
   "source": [
    "pdf_nom_fix = GaussianKDE(alpha=None)\n",
    "pdf_nom_fix.fit(s_hat_calibration.reshape((-1,1)), weights=weights_calibration[theta,::])\n",
    "\n",
    "pdf_den_fix = GaussianKDE(alpha=None)\n",
    "pdf_den_fix.fit(s_hat_calibration.reshape((-1,1)), weights=weights_calibration[theta1,::])"
   ]
  },
  {
   "cell_type": "code",
   "execution_count": 72,
   "metadata": {},
   "outputs": [],
   "source": [
    "si = np.linspace(0., 1., 200).reshape((-1,1))\n",
    "\n",
    "p_nom_eval = pdf_nom.predict(si)\n",
    "p_den_eval = pdf_den.predict(si)\n",
    "p_nom_fix_eval = pdf_nom_fix.predict(si)\n",
    "p_den_fix_eval = pdf_den_fix.predict(si)\n",
    "\n",
    "ratio_eval = p_nom_eval / p_den_eval\n",
    "ratio_fix_eval = p_nom_fix_eval / p_den_fix_eval"
   ]
  },
  {
   "cell_type": "code",
   "execution_count": 73,
   "metadata": {},
   "outputs": [
    {
     "data": {
      "image/png": "[encoded data removed]",
      "text/plain": [
       "<matplotlib.figure.Figure at 0x1a2c4ada58>"
      ]
     },
     "metadata": {},
     "output_type": "display_data"
    }
   ],
   "source": [
    "plt.figure(figsize=(10.,5.))\n",
    "\n",
    "plt.subplot(1,2,1)\n",
    "plt.plot(si,p_nom_eval, c='C0', label='nom adaptive')\n",
    "plt.plot(si,p_den_eval, c='C1', label='den adaptive')\n",
    "plt.plot(si,p_nom_fix_eval, c='C0', ls=':', label='nom fix')\n",
    "plt.plot(si,p_den_fix_eval, c='C1', ls=':', label='den fix')\n",
    "plt.xlabel('s')\n",
    "plt.ylabel('p(s)')\n",
    "plt.legend()\n",
    "\n",
    "plt.subplot(1,2,2)\n",
    "plt.plot(si,ratio_eval, c='C2', label='ratio adaptive')\n",
    "plt.plot(si,ratio_fix_eval, c='C2', ls=':', label='ratio fix')\n",
    "plt.xlabel('s')\n",
    "plt.ylabel('r(s)')\n",
    "plt.legend()\n",
    "\n",
    "plt.show()"
   ]
  },
  {
   "cell_type": "code",
   "execution_count": null,
   "metadata": {},
   "outputs": [],
   "source": []
  }
 ],
 "metadata": {
  "kernelspec": {
   "display_name": "Python [conda env:higgs_inference]",
   "language": "python",
   "name": "conda-env-higgs_inference-py"
  },
  "language_info": {
   "codemirror_mode": {
    "name": "ipython",
    "version": 3
   },
   "file_extension": ".py",
   "mimetype": "text/x-python",
   "name": "python",
   "nbconvert_exporter": "python",
   "pygments_lexer": "ipython3",
   "version": "3.6.4"
  }
 },
 "nbformat": 4,
 "nbformat_minor": 2
}
