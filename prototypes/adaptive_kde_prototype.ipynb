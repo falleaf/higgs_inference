{
 "cells": [
  {
   "cell_type": "code",
   "execution_count": 1,
   "metadata": {},
   "outputs": [
    {
     "name": "stderr",
     "output_type": "stream",
     "text": [
      "/Users/johannbrehmer/anaconda3/envs/higgs_inference/lib/python3.6/site-packages/h5py/__init__.py:36: FutureWarning: Conversion of the second argument of issubdtype from `float` to `np.floating` is deprecated. In future, it will be treated as `np.float64 == np.dtype(float).type`.\n",
      "  from ._conv import register_converters as _register_converters\n",
      "Using TensorFlow backend.\n",
      "/Users/johannbrehmer/anaconda3/envs/higgs_inference/lib/python3.6/importlib/_bootstrap.py:219: RuntimeWarning: compiletime version 3.5 of module 'tensorflow.python.framework.fast_tensor_util' does not match runtime version 3.6\n",
      "  return f(*args, **kwds)\n"
     ]
    }
   ],
   "source": [
    "%load_ext autoreload\n",
    "%autoreload 2\n",
    "\n",
    "import numpy as np\n",
    "import matplotlib.pyplot as plt\n",
    "%matplotlib inline\n",
    "\n",
    "from sklearn.preprocessing import StandardScaler\n",
    "\n",
    "from keras.wrappers.scikit_learn import KerasRegressor\n",
    "from keras.models import Model\n",
    "from keras.layers import Input, Dense, Dropout\n",
    "from keras import losses, optimizers\n",
    "\n",
    "from awkde import GaussianKDE"
   ]
  },
  {
   "cell_type": "code",
   "execution_count": 38,
   "metadata": {},
   "outputs": [
    {
     "name": "stdout",
     "output_type": "stream",
     "text": [
      "[0. 0. 0. ... 1. 1. 1.] 4972.0\n"
     ]
    },
    {
     "name": "stderr",
     "output_type": "stream",
     "text": [
      "/Users/johannbrehmer/anaconda3/envs/higgs_inference/lib/python3.6/site-packages/numpy/core/_methods.py:32: RuntimeWarning: overflow encountered in reduce\n",
      "  return umr_sum(a, axis, dtype, out, keepdims)\n"
     ]
    }
   ],
   "source": [
    "# Data\n",
    "data_dir = '../data'\n",
    "\n",
    "X_train = np.load(data_dir + '/unweighted_events/X_train.npy')[:9972]\n",
    "y_train = np.load(data_dir + '/unweighted_events/y_train.npy')[:9972]\n",
    "\n",
    "X_calibration = np.load(data_dir + '/unweighted_events/X_calibration.npy')\n",
    "weights_calibration = np.load(\n",
    "    data_dir + '/unweighted_events/weights_calibration.npy')\n",
    "    \n",
    "# Scale data\n",
    "scaler = StandardScaler()\n",
    "scaler.fit(np.array(X_train, dtype=np.float64))\n",
    "X_train_transformed = scaler.transform(X_train)\n",
    "X_calibration_transformed = scaler.transform(X_calibration)"
   ]
  },
  {
   "cell_type": "code",
   "execution_count": 39,
   "metadata": {},
   "outputs": [],
   "source": [
    "theta1 = 708\n",
    "theta = 0"
   ]
  },
  {
   "cell_type": "markdown",
   "metadata": {},
   "source": [
    "# Classifier"
   ]
  },
  {
   "cell_type": "code",
   "execution_count": 40,
   "metadata": {},
   "outputs": [],
   "source": [
    "def loss_function_carl(y_true, y_pred):\n",
    "    return losses.binary_crossentropy(y_true[:], y_pred[:])\n",
    "\n",
    "\n",
    "def make_classifier(n_hidden_layers=3,\n",
    "                    hidden_layer_size=100,\n",
    "                    activation='tanh',\n",
    "                    dropout_prob=0.0,\n",
    "                    learn_log_r=False):\n",
    "    # Inputs\n",
    "    input_layer = Input(shape=(42,))\n",
    "\n",
    "    # Network\n",
    "    hidden_layer = Dense(hidden_layer_size, activation=activation)(input_layer)\n",
    "    if n_hidden_layers > 1:\n",
    "        hidden_layer_ = hidden_layers(n_hidden_layers - 1,\n",
    "                                      hidden_layer_size=hidden_layer_size,\n",
    "                                      activation=activation,\n",
    "                                      dropout_prob=dropout_prob)\n",
    "        hidden_layer = hidden_layer_(hidden_layer)\n",
    "\n",
    "    if learn_log_r:\n",
    "        log_r_hat_layer = Dense(1, activation='linear')(hidden_layer)\n",
    "        r_hat_layer = Lambda(lambda x: K.exp(x))(log_r_hat_layer)\n",
    "        s_hat_layer = Lambda(lambda x: 1./(1. + r_hat_layer))(log_r_hat_layer)\n",
    "\n",
    "    else:\n",
    "        s_hat_layer = Dense(1, activation='sigmoid')(hidden_layer)\n",
    "\n",
    "    # Combine outputs\n",
    "    model = Model(inputs=[input_layer], outputs=[s_hat_layer])\n",
    "\n",
    "    # Compile model\n",
    "    model.compile(loss=loss_function_carl,\n",
    "                  optimizer=optimizers.Adam(clipnorm=1.))\n",
    "\n",
    "    return model"
   ]
  },
  {
   "cell_type": "code",
   "execution_count": 42,
   "metadata": {},
   "outputs": [
    {
     "name": "stdout",
     "output_type": "stream",
     "text": [
      "Epoch 1/10\n",
      "9972/9972 [==============================] - 1s 60us/step - loss: 0.6807\n",
      "Epoch 2/10\n",
      "9972/9972 [==============================] - 0s 32us/step - loss: 0.6578\n",
      "Epoch 3/10\n",
      "9972/9972 [==============================] - 0s 33us/step - loss: 0.6497\n",
      "Epoch 4/10\n",
      "9972/9972 [==============================] - 0s 33us/step - loss: 0.6431\n",
      "Epoch 5/10\n",
      "9972/9972 [==============================] - 0s 32us/step - loss: 0.6385\n",
      "Epoch 6/10\n",
      "9972/9972 [==============================] - 0s 33us/step - loss: 0.6345\n",
      "Epoch 7/10\n",
      "9972/9972 [==============================] - 0s 32us/step - loss: 0.6335\n",
      "Epoch 8/10\n",
      "9972/9972 [==============================] - 0s 33us/step - loss: 0.6302\n",
      "Epoch 9/10\n",
      "9972/9972 [==============================] - 0s 33us/step - loss: 0.6273\n",
      "Epoch 10/10\n",
      "9972/9972 [==============================] - 0s 33us/step - loss: 0.6262\n"
     ]
    },
    {
     "data": {
      "text/plain": [
       "<keras.callbacks.History at 0x1a16d334a8>"
      ]
     },
     "execution_count": 42,
     "metadata": {},
     "output_type": "execute_result"
    }
   ],
   "source": [
    "# Train score regression\n",
    "clf = KerasRegressor(lambda: make_classifier(n_hidden_layers=1),\n",
    "                      epochs=10, verbose=1)\n",
    "\n",
    "clf.fit(X_train_transformed, y_train)"
   ]
  },
  {
   "cell_type": "code",
   "execution_count": 43,
   "metadata": {},
   "outputs": [
    {
     "name": "stdout",
     "output_type": "stream",
     "text": [
      "19994/19994 [==============================] - 0s 13us/step\n"
     ]
    }
   ],
   "source": [
    "s_calibration = clf.predict(X_calibration_transformed)"
   ]
  },
  {
   "cell_type": "markdown",
   "metadata": {},
   "source": [
    "# Calibration"
   ]
  },
  {
   "cell_type": "code",
   "execution_count": 45,
   "metadata": {},
   "outputs": [
    {
     "data": {
      "image/png": "[encoded data removed]",
      "text/plain": [
       "<matplotlib.figure.Figure at 0x1a1741b828>"
      ]
     },
     "metadata": {},
     "output_type": "display_data"
    }
   ],
   "source": [
    "plt.figure(figsize=(5.,5.))\n",
    "plt.hist(s_calibration, 100)\n",
    "plt.show()"
   ]
  },
  {
   "cell_type": "code",
   "execution_count": 65,
   "metadata": {},
   "outputs": [
    {
     "data": {
      "text/plain": [
       "(array([0.55868103]), array([[0.02684156]]))"
      ]
     },
     "execution_count": 65,
     "metadata": {},
     "output_type": "execute_result"
    }
   ],
   "source": [
    "pdf_nom = GaussianKDE(alpha=0.7)\n",
    "pdf_nom.fit(s_calibration.reshape((-1,1)), weights=weights_calibration[theta,::])\n",
    "\n",
    "pdf_den = GaussianKDE(alpha=0.7)\n",
    "pdf_den.fit(s_calibration.reshape((-1,1)), weights=weights_calibration[theta1,::])"
   ]
  },
  {
   "cell_type": "code",
   "execution_count": 50,
   "metadata": {},
   "outputs": [
    {
     "data": {
      "text/plain": [
       "(array([0.55868103]), array([[0.02684156]]))"
      ]
     },
     "execution_count": 50,
     "metadata": {},
     "output_type": "execute_result"
    }
   ],
   "source": [
    "pdf_nom_fix = GaussianKDE(alpha=None)\n",
    "pdf_nom_fix.fit(s_calibration.reshape((-1,1)), weights=weights_calibration[theta,::])\n",
    "\n",
    "pdf_den_fix = GaussianKDE(alpha=None)\n",
    "pdf_den_fix.fit(s_calibration.reshape((-1,1)), weights=weights_calibration[theta1,::])"
   ]
  },
  {
   "cell_type": "code",
   "execution_count": 63,
   "metadata": {},
   "outputs": [],
   "source": [
    "si = np.linspace(0.01, 1., 100).reshape((-1,1))\n",
    "\n",
    "p_nom_eval = pdf_nom.predict(si)\n",
    "p_den_eval = pdf_den.predict(si)\n",
    "p_nom_fix_eval = pdf_nom_fix.predict(si)\n",
    "p_den_fix_eval = pdf_den_fix.predict(si)\n",
    "\n",
    "ratio_eval = p_nom_eval / p_den_eval\n",
    "ratio_fix_eval = p_nom_fix_eval / p_den_fix_eval"
   ]
  },
  {
   "cell_type": "code",
   "execution_count": 66,
   "metadata": {},
   "outputs": [
    {
     "data": {
      "image/png": "[encoded data removed]",
      "text/plain": [
       "<matplotlib.figure.Figure at 0x1a17d05be0>"
      ]
     },
     "metadata": {},
     "output_type": "display_data"
    }
   ],
   "source": [
    "plt.figure(figsize=(10.,5.))\n",
    "\n",
    "plt.subplot(1,2,1)\n",
    "plt.plot(si,p_nom_eval, c='C0', label='nom adaptive')\n",
    "plt.plot(si,p_den_eval, c='C1', label='den adaptive')\n",
    "plt.plot(si,p_nom_fix_eval, c='C0', ls=':', label='nom fix')\n",
    "plt.plot(si,p_den_fix_eval, c='C1', ls=':', label='den fix')\n",
    "plt.xlabel('s')\n",
    "plt.ylabel('p(s)')\n",
    "plt.legend()\n",
    "\n",
    "plt.subplot(1,2,2)\n",
    "plt.plot(si,ratio_eval, c='C2', label='ratio adaptive')\n",
    "plt.plot(si,ratio_fix_eval, c='C2', ls=':', label='ratio fix')\n",
    "plt.xlabel('s')\n",
    "plt.ylabel('r(s)')\n",
    "plt.legend()\n",
    "\n",
    "plt.show()"
   ]
  },
  {
   "cell_type": "code",
   "execution_count": null,
   "metadata": {},
   "outputs": [],
   "source": []
  }
 ],
 "metadata": {
  "kernelspec": {
   "display_name": "Python [conda env:higgs_inference]",
   "language": "python",
   "name": "conda-env-higgs_inference-py"
  },
  "language_info": {
   "codemirror_mode": {
    "name": "ipython",
    "version": 3
   },
   "file_extension": ".py",
   "mimetype": "text/x-python",
   "name": "python",
   "nbconvert_exporter": "python",
   "pygments_lexer": "ipython3",
   "version": "3.6.4"
  }
 },
 "nbformat": 4,
 "nbformat_minor": 2
}
